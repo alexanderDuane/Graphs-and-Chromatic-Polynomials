{
 "cells": [
  {
   "cell_type": "code",
   "execution_count": 36,
   "metadata": {},
   "outputs": [],
   "source": [
    "import graph_theory\n",
    "from graph_theory import Graph\n",
    "from graph_theory import SampleGraphs"
   ]
  },
  {
   "cell_type": "markdown",
   "metadata": {},
   "source": [
    "# Graph Colorings, Chromatic Polynomials, and the Chromatic Number"
   ]
  },
  {
   "cell_type": "markdown",
   "metadata": {},
   "source": [
    "## Represenation of a Graph in Python using a dictionary"
   ]
  },
  {
   "cell_type": "markdown",
   "metadata": {},
   "source": [
    "Dictionaries are a light-weight alternative to adjacency matricies as they do not require an ordering structure.\n",
    "Each vertex is paired with the set of verticies connected to it, thus providing a useful analogy for edges.  We can also represent a directed graph by setting the dictionary's value for the vertex as the set of vertices that point to (or feed into) the vertex.\n"
   ]
  },
  {
   "cell_type": "markdown",
   "metadata": {},
   "source": [
    "##### The complete graph on 5 vertices (K5)\n",
    "A graph is complete if every vertex has an edge connected to all other verticies in the graph"
   ]
  },
  {
   "cell_type": "code",
   "execution_count": 37,
   "metadata": {},
   "outputs": [
    {
     "data": {
      "text/plain": [
       "{0: {1, 2, 3, 4},\n",
       " 1: {0, 2, 3, 4},\n",
       " 2: {0, 1, 3, 4},\n",
       " 3: {0, 1, 2, 4},\n",
       " 4: {0, 1, 2, 3}}"
      ]
     },
     "execution_count": 37,
     "metadata": {},
     "output_type": "execute_result"
    }
   ],
   "source": [
    "SampleGraphs.complete(5)"
   ]
  },
  {
   "cell_type": "markdown",
   "metadata": {},
   "source": [
    "##### Map of the United States of America\n",
    "Vertices are the states, and two states are connected if they share a border"
   ]
  },
  {
   "cell_type": "code",
   "execution_count": 38,
   "metadata": {},
   "outputs": [
    {
     "name": "stdout",
     "output_type": "stream",
     "text": [
      "Alabama: {'Tennessee', 'Georgia', 'Mississippi', 'Florida'}\n",
      "Arizona: {'Colorado', 'Nevada', 'New_Mexico', 'California', 'Utah'}\n",
      "Arkansas: {'Louisiana', 'Missouri', 'Texas', 'Tennessee', 'Oklahoma', 'Mississippi'}\n",
      "California: {'Oregon', 'Arizona', 'Nevada'}\n",
      "Colorado: {'New_Mexico', 'Arizona', 'Wyoming', 'Utah', 'Oklahoma', 'Kansas', 'Nebraska'}\n",
      "Connecticut: {'New_York', 'Massachusetts', 'Rhode_Island'}\n",
      "Delaware: {'Pennsylvania', 'New_Jersey', 'Maryland'}\n",
      "Florida: {'Georgia', 'Alabama'}\n",
      "Georgia: {'Alabama', 'Tennessee', 'South_Carolina', 'Florida', 'North_Carolina'}\n",
      "Idaho: {'Washington', 'Nevada', 'Wyoming', 'Utah', 'Oregon', 'Montana'}\n",
      "Illinois: {'Iowa', 'Wisconsin', 'Indiana', 'Missouri', 'Kentucky'}\n",
      "Indiana: {'Illinois', 'Michigan', 'Kentucky', 'Ohio'}\n",
      "Iowa: {'Wisconsin', 'Illinois', 'Missouri', 'South_Dakota', 'Minnesota', 'Nebraska'}\n",
      "Kansas: {'Oklahoma', 'Missouri', 'Colorado', 'Nebraska'}\n",
      "Kentucky: {'Indiana', 'Illinois', 'Missouri', 'Ohio', 'Tennessee', 'West_Virginia', 'Virginia'}\n",
      "Louisiana: {'Mississippi', 'Texas', 'Arkansas'}\n",
      "Maine: {'New_Hampshire'}\n",
      "Maryland: {'Pennsylvania', 'Delaware', 'West_Virginia', 'Virginia'}\n",
      "Massachusetts: {'New_York', 'Connecticut', 'Vermont', 'Rhode_Island', 'New_Hampshire'}\n",
      "Michigan: {'Indiana', 'Wisconsin', 'Ohio'}\n",
      "Minnesota: {'Iowa', 'Wisconsin', 'South_Dakota', 'North_Dakota'}\n",
      "Mississippi: {'Tennessee', 'Louisiana', 'Arkansas', 'Alabama'}\n",
      "Missouri: {'Iowa', 'Illinois', 'Arkansas', 'Kentucky', 'Tennessee', 'Oklahoma', 'Kansas', 'Nebraska'}\n",
      "Montana: {'Idaho', 'Wyoming', 'South_Dakota', 'North_Dakota'}\n",
      "Nebraska: {'Iowa', 'Colorado', 'Missouri', 'Wyoming', 'South_Dakota', 'Kansas'}\n",
      "Nevada: {'Idaho', 'California', 'Utah', 'Oregon', 'Arizona'}\n",
      "New_Hampshire: {'Maine', 'Massachusetts', 'Vermont'}\n",
      "New_Jersey: {'Pennsylvania', 'New_York', 'Delaware'}\n",
      "New_Mexico: {'Colorado', 'Texas', 'Utah', 'Oklahoma', 'Arizona'}\n",
      "New_York: {'Massachusetts', 'Connecticut', 'New_Jersey', 'Vermont', 'Pennsylvania'}\n",
      "North_Carolina: {'Tennessee', 'South_Carolina', 'Georgia', 'Virginia'}\n",
      "North_Dakota: {'Montana', 'Minnesota', 'South_Dakota'}\n",
      "Ohio: {'Indiana', 'Kentucky', 'Pennsylvania', 'Michigan', 'West_Virginia'}\n",
      "Oklahoma: {'Colorado', 'New_Mexico', 'Missouri', 'Texas', 'Arkansas', 'Kansas'}\n",
      "Oregon: {'Washington', 'California', 'Idaho', 'Nevada'}\n",
      "Pennsylvania: {'New_York', 'Ohio', 'Delaware', 'New_Jersey', 'Maryland', 'West_Virginia'}\n",
      "Rhode_Island: {'Massachusetts', 'Connecticut'}\n",
      "South_Carolina: {'Georgia', 'North_Carolina'}\n",
      "South_Dakota: {'Iowa', 'Wyoming', 'North_Dakota', 'Montana', 'Minnesota', 'Nebraska'}\n",
      "Tennessee: {'Missouri', 'Georgia', 'Arkansas', 'Kentucky', 'North_Carolina', 'Mississippi', 'Virginia', 'Alabama'}\n",
      "Texas: {'New_Mexico', 'Oklahoma', 'Louisiana', 'Arkansas'}\n",
      "Utah: {'Colorado', 'Idaho', 'Nevada', 'New_Mexico', 'Wyoming', 'Arizona'}\n",
      "Vermont: {'New_York', 'New_Hampshire', 'Massachusetts'}\n",
      "Virginia: {'Kentucky', 'Maryland', 'Tennessee', 'West_Virginia', 'North_Carolina'}\n",
      "Washington: {'Oregon', 'Idaho'}\n",
      "West_Virginia: {'Ohio', 'Kentucky', 'Maryland', 'Pennsylvania', 'Virginia'}\n",
      "Wisconsin: {'Iowa', 'Illinois', 'Michigan', 'Minnesota'}\n",
      "Wyoming: {'Colorado', 'Idaho', 'South_Dakota', 'Utah', 'Montana', 'Nebraska'}\n"
     ]
    }
   ],
   "source": [
    "for state, bordering_states in SampleGraphs.america.items():\n",
    "    print(f'{state}: {bordering_states}')"
   ]
  },
  {
   "cell_type": "markdown",
   "metadata": {},
   "source": [
    "### Graph Object from graph_theory module\n",
    "\n",
    "Create an instance with the graph class, and set the adjacency dictionary to the dictionary representation of the USA (Mainland).\n",
    "\n",
    "The Graph class contains a few special functions that can be used so solve many abstract problems to aid in a wide range of surpisingly useful applications"
   ]
  },
  {
   "cell_type": "code",
   "execution_count": 51,
   "metadata": {},
   "outputs": [],
   "source": [
    "graph = Graph(adjacency=SampleGraphs.america)"
   ]
  },
  {
   "cell_type": "markdown",
   "metadata": {},
   "source": [
    "## Graph Colorings"
   ]
  },
  {
   "cell_type": "markdown",
   "metadata": {},
   "source": [
    "### Coloring the Map of the USA\n",
    "As a motivational example, suppose you wish to color the map of the united states using as few colors as possible in such a way that states that border each other will never share the same color.  \n",
    "\n",
    "Using graphs and chromatic polynomials, we can calculate the smallest number of colors needed for such a project (the chromatic number) and how many possible colorings exist with N colors (the chromatic polynomial evaluated at N)\n",
    "\n"
   ]
  },
  {
   "cell_type": "markdown",
   "metadata": {},
   "source": [
    "### Chromatic Number\n",
    "\n",
    "Suppose you wish to find the minimum number of colors needed to color the graph of the united states.  \n",
    "\n",
    "The Chromatic Number C of a Graph G is defined using the Chromatic Polynomial (defined below) of G, PG as\n",
    "\n",
    "C := min{ N : PG(N) > 0}\n",
    "\n",
    "To find the Chomatic Number of the Map of the USA, reference the class property 'chromatic_number'"
   ]
  },
  {
   "cell_type": "code",
   "execution_count": 47,
   "metadata": {},
   "outputs": [
    {
     "name": "stdout",
     "output_type": "stream",
     "text": [
      "Eureka!  The minimum number of colors it takes to produce a proper coloring of the USA Map is 4 colors.\n"
     ]
    }
   ],
   "source": [
    "chromatic_number = graph.chromatic_number\n",
    "print(f'Eureka!  The minimum number of colors it takes to produce a proper coloring of the USA Map is {chromatic_number} colors.')"
   ]
  },
  {
   "cell_type": "markdown",
   "metadata": {},
   "source": [
    "### Chromatic Polynomials\n",
    "\n",
    "Now suppose we wish to know how many colorings are possible with N colors.  We use the graph's chromatic polynomial.\n",
    "\n",
    "For a graph G, The Chromatic Polynomial PG is defined: \n",
    "\n",
    "PG(N) := number of possible colorings of G using N colors\n",
    "\n",
    "We will now print the number of possible number of colorings using the chromatic_polynomial function for the first 10 positive integers"
   ]
  },
  {
   "cell_type": "code",
   "execution_count": 48,
   "metadata": {},
   "outputs": [
    {
     "name": "stdout",
     "output_type": "stream",
     "text": [
      "# of Colors: 1 | Colorings: 0\n",
      "# of Colors: 2 | Colorings: 0\n",
      "# of Colors: 3 | Colorings: 0\n",
      "# of Colors: 4 | Colorings: 54829397145600\n",
      "# of Colors: 5 | Colorings: 27782370807062800105472\n",
      "# of Colors: 6 | Colorings: 36358719863918370122241146880\n",
      "# of Colors: 7 | Colorings: 1915119871092297187750799197863936\n",
      "# of Colors: 8 | Colorings: 13451648649537498081989804548343988224\n",
      "# of Colors: 9 | Colorings: 23695952416325413743299894833600163479552\n",
      "# of Colors: 10 | Colorings: 15221828765933093033236249527048947437142016\n"
     ]
    }
   ],
   "source": [
    "for x in range(11)[1:]:\n",
    "    print(f'# of Colors: {str(x)} | Colorings: {int(graph.chromatic_polynomial(x))}')"
   ]
  },
  {
   "cell_type": "markdown",
   "metadata": {},
   "source": [
    "We know from our previous calculations of the chromatic number of the USA map is 4, by which there are 54829397145600 colorings.\n",
    "\n",
    "Also, we can see that there are 0 possible colorings for a color palate of less than 4, as expected."
   ]
  }
 ],
 "metadata": {
  "kernelspec": {
   "display_name": "Python 3",
   "language": "python",
   "name": "python3"
  },
  "language_info": {
   "codemirror_mode": {
    "name": "ipython",
    "version": 3
   },
   "file_extension": ".py",
   "mimetype": "text/x-python",
   "name": "python",
   "nbconvert_exporter": "python",
   "pygments_lexer": "ipython3",
   "version": "3.7.3"
  }
 },
 "nbformat": 4,
 "nbformat_minor": 2
}
